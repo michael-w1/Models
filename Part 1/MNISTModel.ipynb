{
  "nbformat": 4,
  "nbformat_minor": 0,
  "metadata": {
    "colab": {
      "name": "MNISTModel.ipynb",
      "provenance": [],
      "collapsed_sections": []
    },
    "kernelspec": {
      "name": "python3",
      "display_name": "Python 3"
    }
  },
  "cells": [
    {
      "cell_type": "code",
      "metadata": {
        "id": "m4eZDEIAx0aH",
        "colab_type": "code",
        "colab": {
          "base_uri": "https://localhost:8080/",
          "height": 34
        },
        "outputId": "46faaf03-b12b-4cc3-a7ab-96647b21384c"
      },
      "source": [
        "try:\n",
        "  # %tensorflow_version only exists in Colab.\n",
        "  %tensorflow_version 2.x\n",
        "except Exception:\n",
        "  pass"
      ],
      "execution_count": 1,
      "outputs": [
        {
          "output_type": "stream",
          "text": [
            "TensorFlow 2.x selected.\n"
          ],
          "name": "stdout"
        }
      ]
    },
    {
      "cell_type": "code",
      "metadata": {
        "id": "ITCcIDcJx02Q",
        "colab_type": "code",
        "colab": {
          "base_uri": "https://localhost:8080/",
          "height": 680
        },
        "outputId": "c90f511f-0146-485e-fa89-6f7b3a2058de"
      },
      "source": [
        "import tensorflow as tf\n",
        "\n",
        "print(\"--Get data--\")\n",
        "mnist = tf.keras.datasets.mnist\n",
        "(x_train, y_train), (x_test, y_test) = mnist.load_data()\n",
        "\n",
        "print(\"--Process data--\")\n",
        "x_train, x_test = x_train / 255.0, x_test / 255.0\n",
        "\n",
        "print(\"--Make model--\")\n",
        "model = tf.keras.models.Sequential([\n",
        "  tf.keras.layers.Flatten(input_shape=(28, 28)),\n",
        "  tf.keras.layers.Dense(256, activation='relu'),\n",
        "  tf.keras.layers.Dense(100, activation='relu'),  \n",
        "  tf.keras.layers.Dense(10, activation='softmax')\n",
        "\n",
        "  \n",
        "])\n",
        "\n",
        "\n",
        "\n",
        "model.compile(optimizer='adam', loss='sparse_categorical_crossentropy', metrics=['accuracy'])\n",
        "\n",
        "print(\"--Fit model--\")\n",
        "model.fit(x_train, y_train, epochs=15, verbose=2)\n",
        "\n",
        "print(\"--Evaluate model--\")\n",
        "model_loss, model_acc = model.evaluate(x_test,  y_test, verbose=2)\n",
        "print(f\"Model Loss:    {model_loss:.2f}\")\n",
        "print(f\"Model Accuray: {model_acc*100:.1f}%\")"
      ],
      "execution_count": 27,
      "outputs": [
        {
          "output_type": "stream",
          "text": [
            "--Get data--\n",
            "--Process data--\n",
            "--Make model--\n",
            "--Fit model--\n",
            "Train on 60000 samples\n",
            "Epoch 1/15\n",
            "60000/60000 - 7s - loss: 0.2076 - accuracy: 0.9374\n",
            "Epoch 2/15\n",
            "60000/60000 - 7s - loss: 0.0850 - accuracy: 0.9740\n",
            "Epoch 3/15\n",
            "60000/60000 - 7s - loss: 0.0585 - accuracy: 0.9811\n",
            "Epoch 4/15\n",
            "60000/60000 - 7s - loss: 0.0435 - accuracy: 0.9859\n",
            "Epoch 5/15\n",
            "60000/60000 - 7s - loss: 0.0335 - accuracy: 0.9891\n",
            "Epoch 6/15\n",
            "60000/60000 - 7s - loss: 0.0271 - accuracy: 0.9915\n",
            "Epoch 7/15\n",
            "60000/60000 - 7s - loss: 0.0239 - accuracy: 0.9923\n",
            "Epoch 8/15\n",
            "60000/60000 - 7s - loss: 0.0204 - accuracy: 0.9932\n",
            "Epoch 9/15\n",
            "60000/60000 - 7s - loss: 0.0191 - accuracy: 0.9936\n",
            "Epoch 10/15\n",
            "60000/60000 - 7s - loss: 0.0146 - accuracy: 0.9955\n",
            "Epoch 11/15\n",
            "60000/60000 - 7s - loss: 0.0156 - accuracy: 0.9948\n",
            "Epoch 12/15\n",
            "60000/60000 - 7s - loss: 0.0136 - accuracy: 0.9953\n",
            "Epoch 13/15\n",
            "60000/60000 - 7s - loss: 0.0122 - accuracy: 0.9959\n",
            "Epoch 14/15\n",
            "60000/60000 - 7s - loss: 0.0122 - accuracy: 0.9963\n",
            "Epoch 15/15\n",
            "60000/60000 - 7s - loss: 0.0113 - accuracy: 0.9964\n",
            "--Evaluate model--\n",
            "10000/1 - 1s - loss: 0.0525 - accuracy: 0.9810\n",
            "Model Loss:    0.10\n",
            "Model Accuray: 98.1%\n"
          ],
          "name": "stdout"
        }
      ]
    },
    {
      "cell_type": "code",
      "metadata": {
        "id": "uqKuNbSJEaWc",
        "colab_type": "code",
        "colab": {}
      },
      "source": [
        "#Save Model to MNIST.h5"
      ],
      "execution_count": 0,
      "outputs": []
    },
    {
      "cell_type": "code",
      "metadata": {
        "id": "0Vc4ePZwERJW",
        "colab_type": "code",
        "colab": {}
      },
      "source": [
        "from google.colab import files\n",
        "files.download('MNIST.h5')"
      ],
      "execution_count": 0,
      "outputs": []
    }
  ]
}
